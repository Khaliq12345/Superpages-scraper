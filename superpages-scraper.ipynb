{
 "cells": [
  {
   "cell_type": "code",
   "execution_count": 1,
   "metadata": {},
   "outputs": [],
   "source": [
    "import requests\n",
    "from bs4 import BeautifulSoup\n",
    "import pandas as pd"
   ]
  },
  {
   "cell_type": "code",
   "execution_count": 2,
   "metadata": {},
   "outputs": [],
   "source": [
    "response = requests.get('https://www.superpages.com/search?search_terms=restaurant&geo_location_terms=New%20york')\n",
    "soup = BeautifulSoup(response.text, 'html.parser')"
   ]
  },
  {
   "cell_type": "code",
   "execution_count": 16,
   "metadata": {},
   "outputs": [
    {
     "name": "stdout",
     "output_type": "stream",
     "text": [
      "Del Frisco's Double Eagle Steakhouse\n",
      "https://delfriscos.com/steakhouse/new-york/menus\n",
      "212-575-5129\n",
      "379 Grand St, New York, NY, 10002 \n",
      "1\n",
      "RestaurantsSteak HousesFine Dining Restaurants\n"
     ]
    },
    {
     "data": {
      "text/plain": [
       "'https://www.superpages.com/new-york-ny/bpp/del-friscos-double-eagle-steakhouse-496644035'"
      ]
     },
     "execution_count": 16,
     "metadata": {},
     "output_type": "execute_result"
    }
   ],
   "source": [
    "cards = soup.select('.result')\n",
    "name = cards[0].select_one('.business-name').text\n",
    "print(name)\n",
    "link = cards[0].select_one('.weblink-button')['href']\n",
    "print(link)\n",
    "phone = cards[0].select_one('.phone').text.replace('Call Now', '')\n",
    "print(phone)\n",
    "address1 = cards[1].select_one('.street-address').text\n",
    "print(address1)\n",
    "reviews = cards[1].select_one('.count').text.replace(')', '').replace('(', '')\n",
    "print(reviews)\n",
    "categories = cards[0].select('.categories')[0].text\n",
    "print(categories)\n",
    "super_page_link = 'https://www.superpages.com' + cards[0].select_one('.business-name')['href']\n",
    "super_page_link"
   ]
  },
  {
   "cell_type": "code",
   "execution_count": null,
   "metadata": {},
   "outputs": [],
   "source": []
  },
  {
   "cell_type": "markdown",
   "metadata": {},
   "source": [
    "## Thank you"
   ]
  }
 ],
 "metadata": {
  "kernelspec": {
   "display_name": "Python 3.10.6 ('khaliq')",
   "language": "python",
   "name": "python3"
  },
  "language_info": {
   "codemirror_mode": {
    "name": "ipython",
    "version": 3
   },
   "file_extension": ".py",
   "mimetype": "text/x-python",
   "name": "python",
   "nbconvert_exporter": "python",
   "pygments_lexer": "ipython3",
   "version": "3.10.6"
  },
  "orig_nbformat": 4,
  "vscode": {
   "interpreter": {
    "hash": "f083f4f62c7ff79ae1066b6303fc95835897d0a126dd6ae7a42191c9ceef673f"
   }
  }
 },
 "nbformat": 4,
 "nbformat_minor": 2
}
